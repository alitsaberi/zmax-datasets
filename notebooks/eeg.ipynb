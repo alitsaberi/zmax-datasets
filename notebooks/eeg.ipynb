{
  "cells": [
    {
      "cell_type": "code",
      "execution_count": 27,
      "metadata": {},
      "outputs": [
        {
          "name": "stdout",
          "output_type": "stream",
          "text": [
            "97\n",
            "['Sub001', 'Sub002', 'Sub004', 'Sub005', 'Sub007', 'Sub009', 'Sub010', 'Sub011', 'Sub012', 'Sub013', 'Sub014', 'Sub016', 'Sub017', 'Sub019', 'Sub020', 'Sub022', 'Sub023', 'Sub024', 'Sub025', 'Sub027', 'Sub028', 'Sub029', 'Sub031', 'Sub032', 'Sub033', 'Sub034', 'Sub035', 'Sub036', 'Sub038', 'Sub039', 'Sub040', 'Sub041', 'Sub043', 'Sub044', 'Sub045', 'Sub046', 'Sub047', 'Sub048', 'Sub050', 'Sub051', 'Sub053', 'Sub054', 'Sub056', 'Sub057', 'Sub059', 'Sub060', 'Sub061', 'Sub062', 'Sub063', 'Sub064', 'Sub065', 'Sub066', 'Sub067', 'Sub068', 'Sub071', 'Sub072', 'Sub073', 'Sub074', 'Sub075', 'Sub076', 'Sub079', 'Sub080', 'Sub081', 'Sub082', 'Sub084', 'Sub085', 'Sub086', 'Sub087', 'Sub088', 'Sub089', 'Sub090', 'Sub091', 'Sub092', 'Sub093', 'Sub094', 'Sub095', 'Sub096', 'Sub097', 'Sub099', 'Sub100', 'Sub101', 'Sub102', 'Sub103', 'Sub104', 'Sub105', 'Sub106', 'Sub107', 'Sub108', 'Sub109', 'Sub110', 'Sub111', 'Sub112', 'Sub118', 'Sub121', 'Sub124', 'Sub129', 'Sub130']\n"
          ]
        }
      ],
      "source": [
        "from zmax_datasets.datasets.usleep import USleepDataset\n",
        "from pathlib import Path\n",
        "import numpy as np\n",
        "\n",
        "DATASETS_DIR = Path(\"/project/4180000.46/zmax_datasets/eeg_processed/\")\n",
        "DATASET_NAME = \"wearanize_plus\"\n",
        "\n",
        "dataset = USleepDataset(data_dir=DATASETS_DIR / DATASET_NAME)\n",
        "print(dataset.n_recordings)\n",
        "print(dataset.recording_ids)\n"
      ]
    },
    {
      "cell_type": "code",
      "execution_count": 28,
      "metadata": {},
      "outputs": [
        {
          "name": "stdout",
          "output_type": "stream",
          "text": [
            "Available data types:\n",
            "{'EEG_LEFT': DataType(channel='EEG_LEFT', sampling_rate=128.0), 'EEG_LEFT_artifact': DataType(channel='EEG_LEFT_artifact', sampling_rate=0.1), 'EEG_RIGHT': DataType(channel='EEG_RIGHT', sampling_rate=128.0), 'EEG_RIGHT_artifact': DataType(channel='EEG_RIGHT_artifact', sampling_rate=0.1)}\n"
          ]
        }
      ],
      "source": [
        "# Get a sample recording\n",
        "sample_recording = dataset.get_recording(\"Sub102\")\n",
        "print(\"Available data types:\")\n",
        "print(sample_recording.data_types)\n"
      ]
    },
    {
      "cell_type": "code",
      "execution_count": 29,
      "metadata": {},
      "outputs": [
        {
          "name": "stderr",
          "output_type": "stream",
          "text": [
            "\u001b[32m2025-10-10 11:49:51.260\u001b[0m | \u001b[1mINFO    \u001b[0m | \u001b[36mzmax_datasets.datasets.base\u001b[0m:\u001b[36mread_data_type\u001b[0m:\u001b[36m36\u001b[0m - \u001b[1mReading data type: EEG_LEFT\u001b[0m\n",
            "\u001b[32m2025-10-10 11:49:51.813\u001b[0m | \u001b[1mINFO    \u001b[0m | \u001b[36mzmax_datasets.datasets.base\u001b[0m:\u001b[36mread_data_type\u001b[0m:\u001b[36m36\u001b[0m - \u001b[1mReading data type: EEG_RIGHT\u001b[0m\n",
            "\u001b[32m2025-10-10 11:49:52.133\u001b[0m | \u001b[1mINFO    \u001b[0m | \u001b[36mzmax_datasets.datasets.base\u001b[0m:\u001b[36mread_data_type\u001b[0m:\u001b[36m36\u001b[0m - \u001b[1mReading data type: EEG_LEFT_artifact\u001b[0m\n",
            "\u001b[32m2025-10-10 11:49:52.139\u001b[0m | \u001b[1mINFO    \u001b[0m | \u001b[36mzmax_datasets.datasets.base\u001b[0m:\u001b[36mread_data_type\u001b[0m:\u001b[36m36\u001b[0m - \u001b[1mReading data type: EEG_RIGHT_artifact\u001b[0m\n"
          ]
        },
        {
          "name": "stdout",
          "output_type": "stream",
          "text": [
            "\n",
            "Signal duration: 30690.0 seconds (511.5 minutes)\n",
            "EEG LEFT sampling rate: 128.0 Hz\n",
            "EEG RIGHT sampling rate: 128.0 Hz\n",
            "EEG LEFT artifact sampling rate: 0.1 Hz\n",
            "EEG RIGHT artifact sampling rate: 0.1 Hz\n",
            "\n",
            "EEG LEFT shape: (3928320, 1)\n",
            "EEG RIGHT shape: (3928320, 1)\n",
            "EEG LEFT artifact shape: (3069, 1)\n",
            "EEG RIGHT artifact shape: (3069, 1)\n"
          ]
        }
      ],
      "source": [
        "# Load all EEG signals and artifact channels\n",
        "eeg_left = sample_recording.read_data_type(\"EEG_LEFT\")\n",
        "eeg_right = sample_recording.read_data_type(\"EEG_RIGHT\")\n",
        "eeg_left_artifact = sample_recording.read_data_type(\"EEG_LEFT_artifact\")\n",
        "eeg_right_artifact = sample_recording.read_data_type(\"EEG_RIGHT_artifact\")\n",
        "\n",
        "# Create time axis in seconds for the EEG signals\n",
        "duration_seconds = len(eeg_left.array.squeeze()) / eeg_left.sample_rate\n",
        "time = np.linspace(0, duration_seconds, len(eeg_left.array.squeeze()))\n",
        "\n",
        "print(f\"\\nSignal duration: {duration_seconds:.1f} seconds ({duration_seconds/60:.1f} minutes)\")\n",
        "print(f\"EEG LEFT sampling rate: {eeg_left.sample_rate} Hz\")\n",
        "print(f\"EEG RIGHT sampling rate: {eeg_right.sample_rate} Hz\")\n",
        "print(f\"EEG LEFT artifact sampling rate: {eeg_left_artifact.sample_rate} Hz\")\n",
        "print(f\"EEG RIGHT artifact sampling rate: {eeg_right_artifact.sample_rate} Hz\")\n",
        "print(f\"\\nEEG LEFT shape: {eeg_left.array.shape}\")\n",
        "print(f\"EEG RIGHT shape: {eeg_right.array.shape}\")\n",
        "print(f\"EEG LEFT artifact shape: {eeg_left_artifact.array.shape}\")\n",
        "print(f\"EEG RIGHT artifact shape: {eeg_right_artifact.array.shape}\")\n"
      ]
    },
    {
      "cell_type": "code",
      "execution_count": 30,
      "metadata": {},
      "outputs": [
        {
          "name": "stdout",
          "output_type": "stream",
          "text": [
            "(array([0, 1]), array([ 805, 2264]))\n",
            "(array([0, 1]), array([2449,  620]))\n"
          ]
        }
      ],
      "source": [
        "print(np.unique(eeg_left_artifact.array.squeeze(), return_counts=True))\n",
        "print(np.unique(eeg_right_artifact.array.squeeze(), return_counts=True))"
      ]
    },
    {
      "cell_type": "code",
      "execution_count": 31,
      "metadata": {},
      "outputs": [
        {
          "data": {
            "application/vnd.jupyter.widget-view+json": {
              "model_id": "33e55212338f4dd69f9275810628cc02",
              "version_major": 2,
              "version_minor": 0
            },
            "text/plain": [
              "HBox(children=(FloatSlider(value=0.0, description='Start Time (s):', layout=Layout(width='500px'), max=30630.0…"
            ]
          },
          "metadata": {},
          "output_type": "display_data"
        },
        {
          "data": {
            "application/vnd.jupyter.widget-view+json": {
              "model_id": "ee3d62f8ae6c4fc1999796e62ac1fd4d",
              "version_major": 2,
              "version_minor": 0
            },
            "text/plain": [
              "FigureWidget({\n",
              "    'data': [{'line': {'color': 'blue'},\n",
              "              'name': 'EEG LEFT',\n",
              "              'type': 'scatter',\n",
              "              'uid': '46b8da9e-975f-4d39-8af0-125e86f84e90',\n",
              "              'xaxis': 'x',\n",
              "              'yaxis': 'y'},\n",
              "             {'line': {'color': 'red'},\n",
              "              'name': 'EEG RIGHT',\n",
              "              'type': 'scatter',\n",
              "              'uid': 'ab3a8c6d-0737-4b30-9131-91624ab1ddd5',\n",
              "              'xaxis': 'x2',\n",
              "              'yaxis': 'y2'}],\n",
              "    'layout': {'annotations': [{'font': {'size': 16},\n",
              "                                'showarrow': False,\n",
              "                                'text': 'EEG LEFT',\n",
              "                                'x': 0.5,\n",
              "                                'xanchor': 'center',\n",
              "                                'xref': 'paper',\n",
              "                                'y': 1.0,\n",
              "                                'yanchor': 'bottom',\n",
              "                                'yref': 'paper'},\n",
              "                               {'font': {'size': 16},\n",
              "                                'showarrow': False,\n",
              "                                'text': 'EEG RIGHT',\n",
              "                                'x': 0.5,\n",
              "                                'xanchor': 'center',\n",
              "                                'xref': 'paper',\n",
              "                                'y': 0.45,\n",
              "                                'yanchor': 'bottom',\n",
              "                                'yref': 'paper'}],\n",
              "               'height': 800,\n",
              "               'showlegend': True,\n",
              "               'template': '...',\n",
              "               'title': {'text': 'EEG Signal Analysis - Recording Sub102'},\n",
              "               'xaxis': {'anchor': 'y', 'domain': [0.0, 1.0], 'matches': 'x2', 'showticklabels': False},\n",
              "               'xaxis2': {'anchor': 'y2', 'domain': [0.0, 1.0], 'title': {'text': 'Time (seconds)'}},\n",
              "               'yaxis': {'anchor': 'x', 'domain': [0.55, 1.0], 'title': {'text': 'Amplitude (µV)'}},\n",
              "               'yaxis2': {'anchor': 'x2', 'domain': [0.0, 0.45], 'title': {'text': 'Amplitude (µV)'}}}\n",
              "})"
            ]
          },
          "metadata": {},
          "output_type": "display_data"
        }
      ],
      "source": [
        "import ipywidgets as widgets\n",
        "from IPython.display import display\n",
        "import plotly.graph_objects as go\n",
        "from plotly.subplots import make_subplots\n",
        "\n",
        "# Create widgets for controlling the window\n",
        "start_slider = widgets.FloatSlider(\n",
        "    value=0,\n",
        "    min=0,\n",
        "    max=duration_seconds - 60,  # Leave room for the window\n",
        "    step=10,\n",
        "    description='Start Time (s):',\n",
        "    style={'description_width': 'initial'},\n",
        "    layout={'width': '500px'}\n",
        ")\n",
        "\n",
        "window_size = widgets.Dropdown(\n",
        "    options=[('10 seconds', 10), ('30 seconds', 30), ('1 minute', 60), ('5 minutes', 300)],\n",
        "    value=60,\n",
        "    description='Window Size:',\n",
        "    style={'description_width': 'initial'}\n",
        ")\n",
        "\n",
        "# Create initial figure with 2 subplots (one for each EEG channel)\n",
        "fig = go.FigureWidget(make_subplots(\n",
        "    rows=2, cols=1,\n",
        "    shared_xaxes=True,\n",
        "    vertical_spacing=0.1,\n",
        "    row_heights=[0.5, 0.5],\n",
        "    subplot_titles=(\"EEG LEFT\", \"EEG RIGHT\")\n",
        "))\n",
        "\n",
        "# Initialize with empty traces\n",
        "# Add EEG LEFT to first subplot\n",
        "fig.add_trace(go.Scatter(name=\"EEG LEFT\", line=dict(color='blue')), row=1, col=1)\n",
        "\n",
        "# Add EEG RIGHT to second subplot\n",
        "fig.add_trace(go.Scatter(name=\"EEG RIGHT\", line=dict(color='red')), row=2, col=1)\n",
        "\n",
        "# Update layout\n",
        "fig.update_layout(\n",
        "    height=800,\n",
        "    title=f\"EEG Signal Analysis - Recording {str(sample_recording)}\",\n",
        "    showlegend=True,\n",
        "    template=\"plotly_white\"\n",
        ")\n",
        "\n",
        "# Update axes labels\n",
        "fig.update_yaxes(title_text=\"Amplitude (µV)\", row=1, col=1)\n",
        "fig.update_yaxes(title_text=\"Amplitude (µV)\", row=2, col=1)\n",
        "fig.update_xaxes(title_text=\"Time (seconds)\", row=2, col=1)\n",
        "\n",
        "def update_plot(start_time, window_duration):\n",
        "    # Calculate indices for the EEG signals\n",
        "    eeg_start_idx = int(start_time * eeg_left.sample_rate)\n",
        "    eeg_end_idx = int((start_time + window_duration) * eeg_left.sample_rate)\n",
        "    \n",
        "    # Create time array for the EEG window using actual timestamps\n",
        "    time_window = (eeg_left.timestamps[eeg_start_idx:eeg_end_idx] - eeg_left.timestamps[0]) / 1e9\n",
        "    \n",
        "    # Get EEG signal segments\n",
        "    left_signal = eeg_left.array.squeeze()[eeg_start_idx:eeg_end_idx]\n",
        "    right_signal = eeg_right.array.squeeze()[eeg_start_idx:eeg_end_idx]\n",
        "    \n",
        "    # For artifacts, we need to find which artifact labels overlap with the time window\n",
        "    # Convert start_time to absolute timestamp\n",
        "    start_timestamp = eeg_left.timestamps[0] + start_time * 1e9\n",
        "    end_timestamp = start_timestamp + window_duration * 1e9\n",
        "    \n",
        "    # Find artifact indices that overlap with this time window\n",
        "    artifact_left_mask = (eeg_left_artifact.timestamps >= start_timestamp) & (eeg_left_artifact.timestamps < end_timestamp)\n",
        "    artifact_right_mask = (eeg_right_artifact.timestamps >= start_timestamp) & (eeg_right_artifact.timestamps < end_timestamp)\n",
        "    \n",
        "    left_artifact = eeg_left_artifact.array.squeeze()[artifact_left_mask]\n",
        "    right_artifact = eeg_right_artifact.array.squeeze()[artifact_right_mask]\n",
        "    \n",
        "    # Get the actual timestamps for the artifacts in this window (in seconds relative to EEG start)\n",
        "    artifact_left_time = (eeg_left_artifact.timestamps[artifact_left_mask] - eeg_left.timestamps[0]) / 1e9\n",
        "    artifact_right_time = (eeg_right_artifact.timestamps[artifact_right_mask] - eeg_left.timestamps[0]) / 1e9\n",
        "    \n",
        "    # Update traces with new data\n",
        "    with fig.batch_update():\n",
        "        # Update EEG signals\n",
        "        fig.data[0].x = time_window\n",
        "        fig.data[0].y = left_signal\n",
        "        \n",
        "        fig.data[1].x = time_window\n",
        "        fig.data[1].y = right_signal\n",
        "        \n",
        "        # Clear existing shapes (artifact markers)\n",
        "        fig.layout.shapes = []\n",
        "        \n",
        "        # Add artifact regions as shaded rectangles\n",
        "        shapes = []\n",
        "        \n",
        "        # Mark artifacts for LEFT channel\n",
        "        artifact_indices_left = np.where(left_artifact == 1)[0]\n",
        "        if len(artifact_indices_left) > 0:\n",
        "            # Group consecutive artifact indices\n",
        "            artifact_regions_left = []\n",
        "            start = artifact_indices_left[0]\n",
        "            for i in range(1, len(artifact_indices_left)):\n",
        "                if artifact_indices_left[i] != artifact_indices_left[i-1] + 1:\n",
        "                    artifact_regions_left.append((start, artifact_indices_left[i-1]))\n",
        "                    start = artifact_indices_left[i]\n",
        "            artifact_regions_left.append((start, artifact_indices_left[-1]))\n",
        "            \n",
        "            for start_idx, end_idx in artifact_regions_left:\n",
        "                shapes.append(\n",
        "                    dict(\n",
        "                        type=\"rect\",\n",
        "                        xref=\"x\",\n",
        "                        yref=\"paper\",\n",
        "                        x0=artifact_left_time[start_idx],\n",
        "                        x1=artifact_left_time[end_idx] + (1 / eeg_left_artifact.sample_rate),  # Extend to end of 10-sec window\n",
        "                        y0=0.55,  # Top subplot\n",
        "                        y1=1.0,\n",
        "                        fillcolor=\"rgba(255, 0, 0, 0.2)\",\n",
        "                        line=dict(width=0),\n",
        "                        layer=\"below\"\n",
        "                    )\n",
        "                )\n",
        "        \n",
        "        # Mark artifacts for RIGHT channel\n",
        "        artifact_indices_right = np.where(right_artifact == 1)[0]\n",
        "        if len(artifact_indices_right) > 0:\n",
        "            # Group consecutive artifact indices\n",
        "            artifact_regions_right = []\n",
        "            start = artifact_indices_right[0]\n",
        "            for i in range(1, len(artifact_indices_right)):\n",
        "                if artifact_indices_right[i] != artifact_indices_right[i-1] + 1:\n",
        "                    artifact_regions_right.append((start, artifact_indices_right[i-1]))\n",
        "                    start = artifact_indices_right[i]\n",
        "            artifact_regions_right.append((start, artifact_indices_right[-1]))\n",
        "            \n",
        "            for start_idx, end_idx in artifact_regions_right:\n",
        "                shapes.append(\n",
        "                    dict(\n",
        "                        type=\"rect\",\n",
        "                        xref=\"x2\",\n",
        "                        yref=\"paper\",\n",
        "                        x0=artifact_right_time[start_idx],\n",
        "                        x1=artifact_right_time[end_idx] + (1 / eeg_right_artifact.sample_rate),  # Extend to end of 10-sec window\n",
        "                        y0=0.0,  # Bottom subplot\n",
        "                        y1=0.45,\n",
        "                        fillcolor=\"rgba(255, 0, 0, 0.2)\",\n",
        "                        line=dict(width=0),\n",
        "                        layer=\"below\"\n",
        "                    )\n",
        "                )\n",
        "        \n",
        "        fig.layout.shapes = shapes\n",
        "\n",
        "# Create the interactive plot\n",
        "def on_change(change):\n",
        "    if change['type'] == 'change' and change['name'] == 'value':\n",
        "        update_plot(start_slider.value, window_size.value)\n",
        "\n",
        "# Link the widgets to the update function\n",
        "start_slider.observe(on_change)\n",
        "window_size.observe(on_change)\n",
        "\n",
        "# Display widgets and initial plot\n",
        "display(widgets.HBox([start_slider, window_size]))\n",
        "display(fig)\n",
        "\n",
        "# Initialize the plot\n",
        "update_plot(start_slider.value, window_size.value)\n"
      ]
    }
  ],
  "metadata": {
    "kernelspec": {
      "display_name": ".venv",
      "language": "python",
      "name": "python3"
    },
    "language_info": {
      "codemirror_mode": {
        "name": "ipython",
        "version": 3
      },
      "file_extension": ".py",
      "mimetype": "text/x-python",
      "name": "python",
      "nbconvert_exporter": "python",
      "pygments_lexer": "ipython3",
      "version": "3.10.15"
    }
  },
  "nbformat": 4,
  "nbformat_minor": 2
}
