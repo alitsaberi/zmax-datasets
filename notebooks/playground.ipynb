{
 "cells": [
  {
   "cell_type": "code",
   "execution_count": 1,
   "metadata": {},
   "outputs": [
    {
     "name": "stdout",
     "output_type": "stream",
     "text": [
      "{'datasets': {'donders_2022': {'data_dir': '/project/3013097.06/Data', 'channel_names': ['EEG L', 'EEG R'], 'annotations': ['sleep_stage']}}}\n",
      "76\n",
      "<bound method NDFrame.head of     subject_id  session_id                                        annotations  \\\n",
      "0            3           1  /project/3013097.06/Data/s3/n1/zmax/s3 n1_psg.txt   \n",
      "1            3           8  /project/3013097.06/Data/s3/n8/zmax/s3 n8_psg.txt   \n",
      "2            1           1  /project/3013097.06/Data/s1/n1/zmax/s1 n1_psg.txt   \n",
      "3            1           8  /project/3013097.06/Data/s1/n8/zmax/s1 n8_psg.txt   \n",
      "4            1          15  /project/3013097.06/Data/s1/n15/zmax/s1 n15_ps...   \n",
      "..         ...         ...                                                ...   \n",
      "71          36           1  /project/3013097.06/Data/s36/n1/zmax/s36 n1_ps...   \n",
      "72          36           8  /project/3013097.06/Data/s36/n8/zmax/s36 n8_ps...   \n",
      "73          37          15  /project/3013097.06/Data/s37/n15/zmax/s37 n15_...   \n",
      "74          37           8  /project/3013097.06/Data/s37/n8/zmax/s37 n8_ps...   \n",
      "75          37           1  /project/3013097.06/Data/s37/n1/zmax/s37 n1_ps...   \n",
      "\n",
      "                                              EEG L  \\\n",
      "0     /project/3013097.06/Data/s3/n1/zmax/EEG L.edf   \n",
      "1     /project/3013097.06/Data/s3/n8/zmax/EEG L.edf   \n",
      "2     /project/3013097.06/Data/s1/n1/zmax/EEG L.edf   \n",
      "3     /project/3013097.06/Data/s1/n8/zmax/EEG L.edf   \n",
      "4    /project/3013097.06/Data/s1/n15/zmax/EEG L.edf   \n",
      "..                                              ...   \n",
      "71   /project/3013097.06/Data/s36/n1/zmax/EEG L.edf   \n",
      "72   /project/3013097.06/Data/s36/n8/zmax/EEG L.edf   \n",
      "73  /project/3013097.06/Data/s37/n15/zmax/EEG L.edf   \n",
      "74   /project/3013097.06/Data/s37/n8/zmax/EEG L.edf   \n",
      "75   /project/3013097.06/Data/s37/n1/zmax/EEG L.edf   \n",
      "\n",
      "                                              EEG R  \n",
      "0     /project/3013097.06/Data/s3/n1/zmax/EEG R.edf  \n",
      "1     /project/3013097.06/Data/s3/n8/zmax/EEG R.edf  \n",
      "2     /project/3013097.06/Data/s1/n1/zmax/EEG R.edf  \n",
      "3     /project/3013097.06/Data/s1/n8/zmax/EEG R.edf  \n",
      "4    /project/3013097.06/Data/s1/n15/zmax/EEG R.edf  \n",
      "..                                              ...  \n",
      "71   /project/3013097.06/Data/s36/n1/zmax/EEG R.edf  \n",
      "72   /project/3013097.06/Data/s36/n8/zmax/EEG R.edf  \n",
      "73  /project/3013097.06/Data/s37/n15/zmax/EEG R.edf  \n",
      "74   /project/3013097.06/Data/s37/n8/zmax/EEG R.edf  \n",
      "75   /project/3013097.06/Data/s37/n1/zmax/EEG R.edf  \n",
      "\n",
      "[76 rows x 5 columns]>\n"
     ]
    }
   ],
   "source": [
    "from pathlib import Path\n",
    "from zmax_real_time.datasets.donders_2022 import Donders2022\n",
    "from zmax_real_time.utils import load_yaml_config\n",
    "\n",
    "CONFIG_PATH =  Path(\"../configs/donders_2022.yaml\")\n",
    "config = load_yaml_config(CONFIG_PATH)\n",
    "print(config)\n",
    "dataset = Donders2022(**config[\"datasets\"][\"donders_2022\"])\n",
    "print(len(dataset))\n",
    "print(dataset.recordings.head)"
   ]
  },
  {
   "cell_type": "code",
   "execution_count": 2,
   "metadata": {},
   "outputs": [
    {
     "data": {
      "text/plain": [
       "PosixPath('/project/3013097.06/Data/s3/n1/zmax/EEG R.edf')"
      ]
     },
     "execution_count": 2,
     "metadata": {},
     "output_type": "execute_result"
    }
   ],
   "source": [
    "x = dataset.recordings.iloc[0]\n",
    "x[\"EEG R\"]"
   ]
  },
  {
   "cell_type": "code",
   "execution_count": null,
   "metadata": {},
   "outputs": [],
   "source": [
    "import mne\n",
    "\n",
    "raw = mne.io.read_raw_edf(x[\"EEG R\"])"
   ]
  },
  {
   "cell_type": "code",
   "execution_count": null,
   "metadata": {},
   "outputs": [],
   "source": []
  }
 ],
 "metadata": {
  "kernelspec": {
   "display_name": "Python 3 (ipykernel)",
   "language": "python",
   "name": "python3"
  },
  "language_info": {
   "codemirror_mode": {
    "name": "ipython",
    "version": 3
   },
   "file_extension": ".py",
   "mimetype": "text/x-python",
   "name": "python",
   "nbconvert_exporter": "python",
   "pygments_lexer": "ipython3",
   "version": "3.10.9"
  }
 },
 "nbformat": 4,
 "nbformat_minor": 4
}
