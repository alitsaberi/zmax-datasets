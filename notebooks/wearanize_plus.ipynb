{
 "cells": [
  {
   "cell_type": "code",
   "execution_count": 2,
   "metadata": {},
   "outputs": [
    {
     "ename": "ImportError",
     "evalue": "cannot import name 'DATA_TYPES' from 'zmax_datasets.datasets.base' (/home/sleep/alisab/sleep/zmax-datasets/zmax_datasets/datasets/base.py)",
     "output_type": "error",
     "traceback": [
      "\u001b[0;31m---------------------------------------------------------------------------\u001b[0m",
      "\u001b[0;31mImportError\u001b[0m                               Traceback (most recent call last)",
      "Cell \u001b[0;32mIn[2], line 3\u001b[0m\n\u001b[1;32m      1\u001b[0m \u001b[38;5;28;01mfrom\u001b[39;00m \u001b[38;5;21;01mpydantic\u001b[39;00m \u001b[38;5;28;01mimport\u001b[39;00m TypeAdapter\n\u001b[1;32m      2\u001b[0m \u001b[38;5;28;01mfrom\u001b[39;00m \u001b[38;5;21;01mzmax_datasets\u001b[39;00m\u001b[38;5;21;01m.\u001b[39;00m\u001b[38;5;21;01mdatasets\u001b[39;00m\u001b[38;5;21;01m.\u001b[39;00m\u001b[38;5;21;01mwearanize_plus\u001b[39;00m \u001b[38;5;28;01mimport\u001b[39;00m WearanizePlus\n\u001b[0;32m----> 3\u001b[0m \u001b[38;5;28;01mfrom\u001b[39;00m \u001b[38;5;21;01mzmax_datasets\u001b[39;00m\u001b[38;5;21;01m.\u001b[39;00m\u001b[38;5;21;01mscripts\u001b[39;00m\u001b[38;5;21;01m.\u001b[39;00m\u001b[38;5;21;01mexport\u001b[39;00m \u001b[38;5;28;01mimport\u001b[39;00m DatasetConfig\n\u001b[1;32m      4\u001b[0m \u001b[38;5;28;01mfrom\u001b[39;00m \u001b[38;5;21;01mzmax_datasets\u001b[39;00m \u001b[38;5;28;01mimport\u001b[39;00m settings\n\u001b[1;32m      5\u001b[0m \u001b[38;5;28;01mfrom\u001b[39;00m \u001b[38;5;21;01mzmax_datasets\u001b[39;00m\u001b[38;5;21;01m.\u001b[39;00m\u001b[38;5;21;01mutils\u001b[39;00m\u001b[38;5;21;01m.\u001b[39;00m\u001b[38;5;21;01mhelpers\u001b[39;00m \u001b[38;5;28;01mimport\u001b[39;00m load_yaml_config\n",
      "File \u001b[0;32m~/sleep/zmax-datasets/zmax_datasets/scripts/export.py:9\u001b[0m\n\u001b[1;32m      6\u001b[0m \u001b[38;5;28;01mfrom\u001b[39;00m \u001b[38;5;21;01mpydantic\u001b[39;00m \u001b[38;5;28;01mimport\u001b[39;00m BaseModel, BeforeValidator, ConfigDict, Field, TypeAdapter\n\u001b[1;32m      8\u001b[0m \u001b[38;5;28;01mfrom\u001b[39;00m \u001b[38;5;21;01mzmax_datasets\u001b[39;00m \u001b[38;5;28;01mimport\u001b[39;00m datasets, settings\n\u001b[0;32m----> 9\u001b[0m \u001b[38;5;28;01mfrom\u001b[39;00m \u001b[38;5;21;01mzmax_datasets\u001b[39;00m\u001b[38;5;21;01m.\u001b[39;00m\u001b[38;5;21;01mdatasets\u001b[39;00m\u001b[38;5;21;01m.\u001b[39;00m\u001b[38;5;21;01mbase\u001b[39;00m \u001b[38;5;28;01mimport\u001b[39;00m DATA_TYPES, Dataset, DataTypeMapping\n\u001b[1;32m     10\u001b[0m \u001b[38;5;28;01mfrom\u001b[39;00m \u001b[38;5;21;01mzmax_datasets\u001b[39;00m\u001b[38;5;21;01m.\u001b[39;00m\u001b[38;5;21;01mexports\u001b[39;00m\u001b[38;5;21;01m.\u001b[39;00m\u001b[38;5;21;01musleep\u001b[39;00m \u001b[38;5;28;01mimport\u001b[39;00m (\n\u001b[1;32m     11\u001b[0m     ErrorHandling,\n\u001b[1;32m     12\u001b[0m     ExistingFileHandling,\n\u001b[1;32m     13\u001b[0m     USleepExportStrategy,\n\u001b[1;32m     14\u001b[0m )\n\u001b[1;32m     15\u001b[0m \u001b[38;5;28;01mfrom\u001b[39;00m \u001b[38;5;21;01mzmax_datasets\u001b[39;00m\u001b[38;5;21;01m.\u001b[39;00m\u001b[38;5;21;01msettings\u001b[39;00m \u001b[38;5;28;01mimport\u001b[39;00m LOGS_DIR\n",
      "\u001b[0;31mImportError\u001b[0m: cannot import name 'DATA_TYPES' from 'zmax_datasets.datasets.base' (/home/sleep/alisab/sleep/zmax-datasets/zmax_datasets/datasets/base.py)"
     ]
    }
   ],
   "source": [
    "from pydantic import TypeAdapter\n",
    "from zmax_datasets.datasets.wearanize_plus import WearanizePlus\n",
    "from zmax_datasets.scripts.export import DatasetConfig\n",
    "from zmax_datasets import settings\n",
    "from zmax_datasets.utils.helpers import load_yaml_config\n",
    "\n",
    "\n",
    "datasets_config = TypeAdapter(list[DatasetConfig]).validate_python(\n",
    "    load_yaml_config(settings.DATASETS_CONFIG_FILE)\n",
    ")\n",
    "\n",
    "wearanize_plus = datasets_config[4].configure()\n",
    "assert isinstance(wearanize_plus, WearanizePlus)"
   ]
  },
  {
   "cell_type": "code",
   "execution_count": 2,
   "metadata": {},
   "outputs": [],
   "source": [
    "recordings = list(wearanize_plus.get_recordings(with_sleep_scoring=False))"
   ]
  },
  {
   "cell_type": "code",
   "execution_count": 1,
   "metadata": {},
   "outputs": [
    {
     "ename": "NameError",
     "evalue": "name 'recordings' is not defined",
     "output_type": "error",
     "traceback": [
      "\u001b[0;31m---------------------------------------------------------------------------\u001b[0m",
      "\u001b[0;31mNameError\u001b[0m                                 Traceback (most recent call last)",
      "Cell \u001b[0;32mIn[1], line 1\u001b[0m\n\u001b[0;32m----> 1\u001b[0m \u001b[43mrecordings\u001b[49m[\u001b[38;5;241m5\u001b[39m]\u001b[38;5;241m.\u001b[39mdata_frame\n",
      "\u001b[0;31mNameError\u001b[0m: name 'recordings' is not defined"
     ]
    }
   ],
   "source": [
    "recordings[5].data_frame"
   ]
  },
  {
   "cell_type": "code",
   "execution_count": 3,
   "metadata": {},
   "outputs": [
    {
     "data": {
      "text/plain": [
       "{'Zmax-EEGL': DataTypes(index='Zmax', channel='EEGL', sampling_rate=256.0),\n",
       " 'Zmax-EEGR': DataTypes(index='Zmax', channel='EEGR', sampling_rate=256.0),\n",
       " 'Zmax-ACCX': DataTypes(index='Zmax', channel='ACCX', sampling_rate=256.0),\n",
       " 'Zmax-ACCY': DataTypes(index='Zmax', channel='ACCY', sampling_rate=256.0),\n",
       " 'Zmax-ACCZ': DataTypes(index='Zmax', channel='ACCZ', sampling_rate=256.0),\n",
       " 'Zmax-NOISE': DataTypes(index='Zmax', channel='NOISE', sampling_rate=256.0),\n",
       " 'Zmax-OXY_IR_AC': DataTypes(index='Zmax', channel='OXY_IR_AC', sampling_rate=256.0),\n",
       " 'Zmax-OXY_IR_DC': DataTypes(index='Zmax', channel='OXY_IR_DC', sampling_rate=256.0),\n",
       " 'PSG-EOG1': DataTypes(index='PSG', channel='EOG1', sampling_rate=256.0),\n",
       " 'PSG-EOG2': DataTypes(index='PSG', channel='EOG2', sampling_rate=256.0),\n",
       " 'PSG-EOG1:A1': DataTypes(index='PSG', channel='EOG1:A1', sampling_rate=256.0),\n",
       " 'PSG-EOG1:A2': DataTypes(index='PSG', channel='EOG1:A2', sampling_rate=256.0),\n",
       " 'PSG-EOG2:A1': DataTypes(index='PSG', channel='EOG2:A1', sampling_rate=256.0),\n",
       " 'PSG-EOG2:A2': DataTypes(index='PSG', channel='EOG2:A2', sampling_rate=256.0),\n",
       " 'PSG-F3:A2': DataTypes(index='PSG', channel='F3:A2', sampling_rate=256.0),\n",
       " 'PSG-F4:A1': DataTypes(index='PSG', channel='F4:A1', sampling_rate=256.0),\n",
       " 'PSG-C3:A2': DataTypes(index='PSG', channel='C3:A2', sampling_rate=256.0),\n",
       " 'PSG-C4:A1': DataTypes(index='PSG', channel='C4:A1', sampling_rate=256.0),\n",
       " 'PSG-O1:A2': DataTypes(index='PSG', channel='O1:A2', sampling_rate=256.0),\n",
       " 'PSG-O2:A1': DataTypes(index='PSG', channel='O2:A1', sampling_rate=256.0),\n",
       " 'PSG-F3': DataTypes(index='PSG', channel='F3', sampling_rate=256.0),\n",
       " 'PSG-F4': DataTypes(index='PSG', channel='F4', sampling_rate=256.0),\n",
       " 'PSG-C3': DataTypes(index='PSG', channel='C3', sampling_rate=256.0),\n",
       " 'PSG-C4': DataTypes(index='PSG', channel='C4', sampling_rate=256.0),\n",
       " 'PSG-A1': DataTypes(index='PSG', channel='A1', sampling_rate=256.0),\n",
       " 'PSG-A2': DataTypes(index='PSG', channel='A2', sampling_rate=256.0),\n",
       " 'PSG-O1': DataTypes(index='PSG', channel='O1', sampling_rate=256.0),\n",
       " 'PSG-O2': DataTypes(index='PSG', channel='O2', sampling_rate=256.0),\n",
       " 'PSG-EMG': DataTypes(index='PSG', channel='EMG', sampling_rate=256.0),\n",
       " 'PSG-ECG 2': DataTypes(index='PSG', channel='ECG 2', sampling_rate=256.0),\n",
       " 'PSG-EMG+': DataTypes(index='PSG', channel='EMG+', sampling_rate=256.0),\n",
       " 'PSG-EMG-': DataTypes(index='PSG', channel='EMG-', sampling_rate=256.0),\n",
       " 'PSG-Pos.': DataTypes(index='PSG', channel='Pos.', sampling_rate=4.0),\n",
       " 'PSG-Move.': DataTypes(index='PSG', channel='Move.', sampling_rate=128.0),\n",
       " 'Emp-ACCX': DataTypes(index='Emp', channel='ACCX', sampling_rate=32.0),\n",
       " 'Emp-ACCY': DataTypes(index='Emp', channel='ACCY', sampling_rate=32.0),\n",
       " 'Emp-ACCZ': DataTypes(index='Emp', channel='ACCZ', sampling_rate=32.0),\n",
       " 'Emp-EDA': DataTypes(index='Emp', channel='EDA', sampling_rate=4.0),\n",
       " 'Emp-BVP': DataTypes(index='Emp', channel='BVP', sampling_rate=64.0),\n",
       " 'Emp-TEMP': DataTypes(index='Emp', channel='TEMP', sampling_rate=4.0),\n",
       " 'Emp-HR': DataTypes(index='Emp', channel='HR', sampling_rate=1.0),\n",
       " 'ActivPal-ACCX': DataTypes(index='ActivPal', channel='ACCX', sampling_rate=20.0),\n",
       " 'ActivPal-ACCY': DataTypes(index='ActivPal', channel='ACCY', sampling_rate=20.0),\n",
       " 'ActivPal-ACCZ': DataTypes(index='ActivPal', channel='ACCZ', sampling_rate=20.0)}"
      ]
     },
     "execution_count": 3,
     "metadata": {},
     "output_type": "execute_result"
    }
   ],
   "source": [
    "recordings[5].data_types"
   ]
  },
  {
   "cell_type": "code",
   "execution_count": 4,
   "metadata": {},
   "outputs": [
    {
     "data": {
      "text/plain": [
       "array([-145.51049805, -159.13891602, -158.83740234, ...,   14.35205078,\n",
       "         11.87963867,   11.15600586])"
      ]
     },
     "execution_count": 4,
     "metadata": {},
     "output_type": "execute_result"
    }
   ],
   "source": [
    "recordings[5].read_raw_data(\"Zmax-EEGL\")"
   ]
  }
 ],
 "metadata": {
  "kernelspec": {
   "display_name": ".venv",
   "language": "python",
   "name": "python3"
  },
  "language_info": {
   "codemirror_mode": {
    "name": "ipython",
    "version": 3
   },
   "file_extension": ".py",
   "mimetype": "text/x-python",
   "name": "python",
   "nbconvert_exporter": "python",
   "pygments_lexer": "ipython3",
   "version": "3.10.9"
  }
 },
 "nbformat": 4,
 "nbformat_minor": 2
}
